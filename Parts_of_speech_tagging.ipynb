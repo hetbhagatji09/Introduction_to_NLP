{
 "cells": [
  {
   "cell_type": "code",
   "execution_count": 7,
   "metadata": {},
   "outputs": [],
   "source": [
    "paragraph=\"\"\"I have three visions for India. In 3000 years of our history people from all over the world have come and invaded us, captured our lands, conquered our minds. From Alexander onwards the Greeks, the Turks, the Moguls, the Portuguese, the British, the French, the Dutch, all of them came and looted us, took over what was ours. Yet we have not done this to any other nation.\n",
    "\n",
    "We have not conquered anyone. We have not grabbed their land, their culture and their history and tried to enforce our way of life on them. Why? Because we respect the freedom of others. That is why my FIRST VISION is that of FREEDOM. I believe that India got its first vision of this in 1857, when we started the war of Independence. It is this freedom that we must protect and nurture and build on. If we are not free, no one will respect us.\n",
    "\n",
    "We have 10 percent growth rate in most areas. Our poverty levels are falling. Our achievements are being globally recognised today. Yet we lack the self-confidence to see ourselves as a developed nation, self-reliant and self-assured. Isn’t this incorrect? MY SECOND VISION for India is DEVELOPMENT. For fifty years we have been a developing nation. It is time we see ourselves as a developed nation. We are among top five nations in the world in terms of GDP.\n",
    "\n",
    "I have a THIRD VISION. India must stand up to the world. Because I believe that unless India stands up to the world, no one will respect us. Only strength respects strength. We must be strong not only as a military power but also as an economic power. Both must go hand-in-hand. My good fortune was to have worked with three great minds. Dr.Vikram Sarabhai, of the Dept. of Space, Professor Satish Dhawan, who succeeded him and Dr. Brahm Prakash, father of nuclear material. I was lucky to have worked with all three of them closely and consider this the great opportunity of my life.\n",
    "\n",
    "I was in Hyderabad giving this lecture, when a 14 year-old girl asked me for my autograph. I asked her what her goal in life is. She replied: I want to live in a developed India. For her, you and I will have to build this developed India. You must proclaim India is not an underdeveloped nation; it is a highly developed nation.\n",
    "\n",
    "You say that our government is inefficient. You say that our laws are too old. You say that the municipality does not pick up the garbage. You say that the phones don’t work, the railways are a joke, the airline is the worst in the world, and mails never reach their destination. You say that our country has been fed to the dogs and is the absolute pits. You say, say and say. What do you do about it?\n",
    "\n",
    "Dear Indians, I am echoing J.F.Kennedy’s words to his fellow Americans to relate to Indians ……. “ASK WHAT WE CAN DO FOR INDIA AND DO WHAT HAS TO BE DONE TO MAKE INDIA WHAT AMERICA AND OTHER WESTERN COUNTRIES ARE TODAY.”\"\"\""
   ]
  },
  {
   "cell_type": "code",
   "execution_count": 9,
   "metadata": {},
   "outputs": [],
   "source": [
    "import nltk\n",
    "from nltk.stem import PorterStemmer\n",
    "from nltk.corpus import stopwords\n",
    "stemmer=PorterStemmer()\n",
    "sentences=nltk.sent_tokenize(paragraph)"
   ]
  },
  {
   "cell_type": "code",
   "execution_count": 10,
   "metadata": {},
   "outputs": [
    {
     "data": {
      "text/plain": [
       "['I have three visions for India.',\n",
       " 'In 3000 years of our history people from all over the world have come and invaded us, captured our lands, conquered our minds.',\n",
       " 'From Alexander onwards the Greeks, the Turks, the Moguls, the Portuguese, the British, the French, the Dutch, all of them came and looted us, took over what was ours.',\n",
       " 'Yet we have not done this to any other nation.',\n",
       " 'We have not conquered anyone.',\n",
       " 'We have not grabbed their land, their culture and their history and tried to enforce our way of life on them.',\n",
       " 'Why?',\n",
       " 'Because we respect the freedom of others.',\n",
       " 'That is why my FIRST VISION is that of FREEDOM.',\n",
       " 'I believe that India got its first vision of this in 1857, when we started the war of Independence.',\n",
       " 'It is this freedom that we must protect and nurture and build on.',\n",
       " 'If we are not free, no one will respect us.',\n",
       " 'We have 10 percent growth rate in most areas.',\n",
       " 'Our poverty levels are falling.',\n",
       " 'Our achievements are being globally recognised today.',\n",
       " 'Yet we lack the self-confidence to see ourselves as a developed nation, self-reliant and self-assured.',\n",
       " 'Isn’t this incorrect?',\n",
       " 'MY SECOND VISION for India is DEVELOPMENT.',\n",
       " 'For fifty years we have been a developing nation.',\n",
       " 'It is time we see ourselves as a developed nation.',\n",
       " 'We are among top five nations in the world in terms of GDP.',\n",
       " 'I have a THIRD VISION.',\n",
       " 'India must stand up to the world.',\n",
       " 'Because I believe that unless India stands up to the world, no one will respect us.',\n",
       " 'Only strength respects strength.',\n",
       " 'We must be strong not only as a military power but also as an economic power.',\n",
       " 'Both must go hand-in-hand.',\n",
       " 'My good fortune was to have worked with three great minds.',\n",
       " 'Dr.Vikram Sarabhai, of the Dept.',\n",
       " 'of Space, Professor Satish Dhawan, who succeeded him and Dr. Brahm Prakash, father of nuclear material.',\n",
       " 'I was lucky to have worked with all three of them closely and consider this the great opportunity of my life.',\n",
       " 'I was in Hyderabad giving this lecture, when a 14 year-old girl asked me for my autograph.',\n",
       " 'I asked her what her goal in life is.',\n",
       " 'She replied: I want to live in a developed India.',\n",
       " 'For her, you and I will have to build this developed India.',\n",
       " 'You must proclaim India is not an underdeveloped nation; it is a highly developed nation.',\n",
       " 'You say that our government is inefficient.',\n",
       " 'You say that our laws are too old.',\n",
       " 'You say that the municipality does not pick up the garbage.',\n",
       " 'You say that the phones don’t work, the railways are a joke, the airline is the worst in the world, and mails never reach their destination.',\n",
       " 'You say that our country has been fed to the dogs and is the absolute pits.',\n",
       " 'You say, say and say.',\n",
       " 'What do you do about it?',\n",
       " 'Dear Indians, I am echoing J.F.Kennedy’s words to his fellow Americans to relate to Indians …….',\n",
       " '“ASK WHAT WE CAN DO FOR INDIA AND DO WHAT HAS TO BE DONE TO MAKE INDIA WHAT AMERICA AND OTHER WESTERN COUNTRIES ARE TODAY.”']"
      ]
     },
     "execution_count": 10,
     "metadata": {},
     "output_type": "execute_result"
    }
   ],
   "source": [
    "sentences"
   ]
  },
  {
   "cell_type": "code",
   "execution_count": 14,
   "metadata": {},
   "outputs": [
    {
     "name": "stderr",
     "output_type": "stream",
     "text": [
      "[nltk_data] Downloading package averaged_perceptron_tagger to\n",
      "[nltk_data]     C:\\Users\\hetbh\\AppData\\Roaming\\nltk_data...\n",
      "[nltk_data]   Unzipping taggers\\averaged_perceptron_tagger.zip.\n"
     ]
    },
    {
     "data": {
      "text/plain": [
       "True"
      ]
     },
     "execution_count": 14,
     "metadata": {},
     "output_type": "execute_result"
    }
   ],
   "source": [
    "nltk.download('averaged_perceptron_tagger')"
   ]
  },
  {
   "cell_type": "code",
   "execution_count": 15,
   "metadata": {},
   "outputs": [
    {
     "name": "stdout",
     "output_type": "stream",
     "text": [
      "[('I', 'PRP'), ('three', 'CD'), ('visions', 'NNS'), ('India', 'NNP'), ('.', '.')]\n",
      "[('In', 'IN'), ('3000', 'CD'), ('years', 'NNS'), ('history', 'NN'), ('people', 'NNS'), ('world', 'NN'), ('come', 'VBP'), ('invaded', 'VBN'), ('us', 'PRP'), (',', ','), ('captured', 'VBD'), ('lands', 'NNS'), (',', ','), ('conquered', 'VBD'), ('minds', 'NNS'), ('.', '.')]\n",
      "[('From', 'IN'), ('Alexander', 'NNP'), ('onwards', 'NNS'), ('Greeks', 'NNP'), (',', ','), ('Turks', 'NNP'), (',', ','), ('Moguls', 'NNP'), (',', ','), ('Portuguese', 'NNP'), (',', ','), ('British', 'NNP'), (',', ','), ('French', 'NNP'), (',', ','), ('Dutch', 'NNP'), (',', ','), ('came', 'VBD'), ('looted', 'JJ'), ('us', 'PRP'), (',', ','), ('took', 'VBD'), ('.', '.')]\n",
      "[('Yet', 'RB'), ('done', 'VBN'), ('nation', 'NN'), ('.', '.')]\n",
      "[('We', 'PRP'), ('conquered', 'VBD'), ('anyone', 'NN'), ('.', '.')]\n",
      "[('We', 'PRP'), ('grabbed', 'VBD'), ('land', 'NN'), (',', ','), ('culture', 'NN'), ('history', 'NN'), ('tried', 'VBD'), ('enforce', 'JJ'), ('way', 'NN'), ('life', 'NN'), ('.', '.')]\n",
      "[('Why', 'WRB'), ('?', '.')]\n",
      "[('Because', 'IN'), ('respect', 'NN'), ('freedom', 'NN'), ('others', 'NNS'), ('.', '.')]\n",
      "[('That', 'DT'), ('FIRST', 'NNP'), ('VISION', 'NNP'), ('FREEDOM', 'NNP'), ('.', '.')]\n",
      "[('I', 'PRP'), ('believe', 'VBP'), ('India', 'NNP'), ('got', 'VBD'), ('first', 'JJ'), ('vision', 'NN'), ('1857', 'CD'), (',', ','), ('started', 'VBD'), ('war', 'NN'), ('Independence', 'NN'), ('.', '.')]\n",
      "[('It', 'PRP'), ('freedom', 'NN'), ('must', 'MD'), ('protect', 'VB'), ('nurture', 'NN'), ('build', 'NN'), ('.', '.')]\n",
      "[('If', 'IN'), ('free', 'JJ'), (',', ','), ('one', 'CD'), ('respect', 'NN'), ('us', 'PRP'), ('.', '.')]\n",
      "[('We', 'PRP'), ('10', 'CD'), ('percent', 'JJ'), ('growth', 'NN'), ('rate', 'NN'), ('areas', 'NNS'), ('.', '.')]\n",
      "[('Our', 'PRP$'), ('poverty', 'NN'), ('levels', 'NNS'), ('falling', 'VBG'), ('.', '.')]\n",
      "[('Our', 'PRP$'), ('achievements', 'NNS'), ('globally', 'RB'), ('recognised', 'VBN'), ('today', 'NN'), ('.', '.')]\n",
      "[('Yet', 'RB'), ('lack', 'JJ'), ('self-confidence', 'NN'), ('see', 'NN'), ('developed', 'JJ'), ('nation', 'NN'), (',', ','), ('self-reliant', 'JJ'), ('self-assured', 'JJ'), ('.', '.')]\n",
      "[('Isn', 'NNP'), ('’', 'NNP'), ('incorrect', 'NN'), ('?', '.')]\n",
      "[('MY', 'PRP$'), ('SECOND', 'JJ'), ('VISION', 'NNP'), ('India', 'NNP'), ('DEVELOPMENT', 'NNP'), ('.', '.')]\n",
      "[('For', 'IN'), ('fifty', 'JJ'), ('years', 'NNS'), ('developing', 'VBG'), ('nation', 'NN'), ('.', '.')]\n",
      "[('It', 'PRP'), ('time', 'NN'), ('see', 'VB'), ('developed', 'JJ'), ('nation', 'NN'), ('.', '.')]\n",
      "[('We', 'PRP'), ('among', 'IN'), ('top', 'JJ'), ('five', 'CD'), ('nations', 'NNS'), ('world', 'NN'), ('terms', 'NNS'), ('GDP', 'NNP'), ('.', '.')]\n",
      "[('I', 'PRP'), ('THIRD', 'VBP'), ('VISION', 'NNP'), ('.', '.')]\n",
      "[('India', 'NNP'), ('must', 'MD'), ('stand', 'VB'), ('world', 'NN'), ('.', '.')]\n",
      "[('Because', 'IN'), ('I', 'PRP'), ('believe', 'VBP'), ('unless', 'IN'), ('India', 'NNP'), ('stands', 'VBZ'), ('world', 'NN'), (',', ','), ('one', 'CD'), ('respect', 'NN'), ('us', 'PRP'), ('.', '.')]\n",
      "[('Only', 'RB'), ('strength', 'NN'), ('respects', 'NNS'), ('strength', 'NN'), ('.', '.')]\n",
      "[('We', 'PRP'), ('must', 'MD'), ('strong', 'JJ'), ('military', 'JJ'), ('power', 'NN'), ('also', 'RB'), ('economic', 'JJ'), ('power', 'NN'), ('.', '.')]\n",
      "[('Both', 'DT'), ('must', 'MD'), ('go', 'VB'), ('hand-in-hand', 'NN'), ('.', '.')]\n",
      "[('My', 'PRP$'), ('good', 'JJ'), ('fortune', 'NN'), ('worked', 'VBD'), ('three', 'CD'), ('great', 'JJ'), ('minds', 'NNS'), ('.', '.')]\n",
      "[('Dr.Vikram', 'NNP'), ('Sarabhai', 'NNP'), (',', ','), ('Dept', 'NNP'), ('.', '.')]\n",
      "[('Space', 'NNP'), (',', ','), ('Professor', 'NNP'), ('Satish', 'NNP'), ('Dhawan', 'NNP'), (',', ','), ('succeeded', 'VBD'), ('Dr.', 'NNP'), ('Brahm', 'NNP'), ('Prakash', 'NNP'), (',', ','), ('father', 'RB'), ('nuclear', 'JJ'), ('material', 'NN'), ('.', '.')]\n",
      "[('I', 'PRP'), ('lucky', 'VBP'), ('worked', 'VBD'), ('three', 'CD'), ('closely', 'RB'), ('consider', 'VBP'), ('great', 'JJ'), ('opportunity', 'NN'), ('life', 'NN'), ('.', '.')]\n",
      "[('I', 'PRP'), ('Hyderabad', 'VBP'), ('giving', 'VBG'), ('lecture', 'NN'), (',', ','), ('14', 'CD'), ('year-old', 'JJ'), ('girl', 'NN'), ('asked', 'VBD'), ('autograph', 'NN'), ('.', '.')]\n",
      "[('I', 'PRP'), ('asked', 'VBD'), ('goal', 'NN'), ('life', 'NN'), ('.', '.')]\n",
      "[('She', 'PRP'), ('replied', 'VBD'), (':', ':'), ('I', 'PRP'), ('want', 'VBP'), ('live', 'JJ'), ('developed', 'VBN'), ('India', 'NNP'), ('.', '.')]\n",
      "[('For', 'IN'), (',', ','), ('I', 'PRP'), ('build', 'VBP'), ('developed', 'JJ'), ('India', 'NNP'), ('.', '.')]\n",
      "[('You', 'PRP'), ('must', 'MD'), ('proclaim', 'VB'), ('India', 'NNP'), ('underdeveloped', 'JJ'), ('nation', 'NN'), (';', ':'), ('highly', 'RB'), ('developed', 'JJ'), ('nation', 'NN'), ('.', '.')]\n",
      "[('You', 'PRP'), ('say', 'VBP'), ('government', 'NN'), ('inefficient', 'NN'), ('.', '.')]\n",
      "[('You', 'PRP'), ('say', 'VBP'), ('laws', 'NNS'), ('old', 'JJ'), ('.', '.')]\n",
      "[('You', 'PRP'), ('say', 'VBP'), ('municipality', 'JJ'), ('pick', 'JJ'), ('garbage', 'NN'), ('.', '.')]\n",
      "[('You', 'PRP'), ('say', 'VBP'), ('phones', 'NNS'), ('’', 'NNP'), ('work', 'NN'), (',', ','), ('railways', 'NNS'), ('joke', 'VBD'), (',', ','), ('airline', 'NN'), ('worst', 'JJS'), ('world', 'NN'), (',', ','), ('mails', 'NNS'), ('never', 'RB'), ('reach', 'VBP'), ('destination', 'NN'), ('.', '.')]\n",
      "[('You', 'PRP'), ('say', 'VBP'), ('country', 'NN'), ('fed', 'VBD'), ('dogs', 'NNS'), ('absolute', 'JJ'), ('pits', 'NNS'), ('.', '.')]\n",
      "[('You', 'PRP'), ('say', 'VBP'), (',', ','), ('say', 'VBP'), ('say', 'UH'), ('.', '.')]\n",
      "[('What', 'WP'), ('?', '.')]\n",
      "[('Dear', 'NNP'), ('Indians', 'NNPS'), (',', ','), ('I', 'PRP'), ('echoing', 'VBG'), ('J.F.Kennedy', 'NNP'), ('’', 'NNP'), ('words', 'NNS'), ('fellow', 'JJ'), ('Americans', 'NNPS'), ('relate', 'VBP'), ('Indians', 'NNPS'), ('……', 'VBP'), ('.', '.')]\n",
      "[('“', 'NN'), ('ASK', 'NNP'), ('WHAT', 'NNP'), ('WE', 'NNP'), ('CAN', 'NNP'), ('DO', 'NNP'), ('FOR', 'NNP'), ('INDIA', 'NNP'), ('AND', 'NNP'), ('DO', 'NNP'), ('WHAT', 'NNP'), ('HAS', 'NNP'), ('TO', 'NNP'), ('BE', 'NNP'), ('DONE', 'NNP'), ('TO', 'NNP'), ('MAKE', 'NNP'), ('INDIA', 'NNP'), ('WHAT', 'NNP'), ('AMERICA', 'NNP'), ('AND', 'NNP'), ('OTHER', 'NNP'), ('WESTERN', 'NNP'), ('COUNTRIES', 'NNP'), ('ARE', 'NNP'), ('TODAY', 'NNP'), ('.', '.'), ('”', 'NN')]\n"
     ]
    }
   ],
   "source": [
    "for i in range(len(sentences)):\n",
    "    words=nltk.word_tokenize(sentences[i])\n",
    "    words=[word for word in words if word not in stopwords.words('english')]\n",
    "    pos_tag=nltk.pos_tag(words)\n",
    "    print(pos_tag)"
   ]
  },
  {
   "cell_type": "code",
   "execution_count": 12,
   "metadata": {},
   "outputs": [
    {
     "data": {
      "text/plain": [
       "['I have three visions for India.',\n",
       " 'In 3000 years of our history people from all over the world have come and invaded us, captured our lands, conquered our minds.',\n",
       " 'From Alexander onwards the Greeks, the Turks, the Moguls, the Portuguese, the British, the French, the Dutch, all of them came and looted us, took over what was ours.',\n",
       " 'Yet we have not done this to any other nation.',\n",
       " 'We have not conquered anyone.',\n",
       " 'We have not grabbed their land, their culture and their history and tried to enforce our way of life on them.',\n",
       " 'Why?',\n",
       " 'Because we respect the freedom of others.',\n",
       " 'That is why my FIRST VISION is that of FREEDOM.',\n",
       " 'I believe that India got its first vision of this in 1857, when we started the war of Independence.',\n",
       " 'It is this freedom that we must protect and nurture and build on.',\n",
       " 'If we are not free, no one will respect us.',\n",
       " 'We have 10 percent growth rate in most areas.',\n",
       " 'Our poverty levels are falling.',\n",
       " 'Our achievements are being globally recognised today.',\n",
       " 'Yet we lack the self-confidence to see ourselves as a developed nation, self-reliant and self-assured.',\n",
       " 'Isn’t this incorrect?',\n",
       " 'MY SECOND VISION for India is DEVELOPMENT.',\n",
       " 'For fifty years we have been a developing nation.',\n",
       " 'It is time we see ourselves as a developed nation.',\n",
       " 'We are among top five nations in the world in terms of GDP.',\n",
       " 'I have a THIRD VISION.',\n",
       " 'India must stand up to the world.',\n",
       " 'Because I believe that unless India stands up to the world, no one will respect us.',\n",
       " 'Only strength respects strength.',\n",
       " 'We must be strong not only as a military power but also as an economic power.',\n",
       " 'Both must go hand-in-hand.',\n",
       " 'My good fortune was to have worked with three great minds.',\n",
       " 'Dr.Vikram Sarabhai, of the Dept.',\n",
       " 'of Space, Professor Satish Dhawan, who succeeded him and Dr. Brahm Prakash, father of nuclear material.',\n",
       " 'I was lucky to have worked with all three of them closely and consider this the great opportunity of my life.',\n",
       " 'I was in Hyderabad giving this lecture, when a 14 year-old girl asked me for my autograph.',\n",
       " 'I asked her what her goal in life is.',\n",
       " 'She replied: I want to live in a developed India.',\n",
       " 'For her, you and I will have to build this developed India.',\n",
       " 'You must proclaim India is not an underdeveloped nation; it is a highly developed nation.',\n",
       " 'You say that our government is inefficient.',\n",
       " 'You say that our laws are too old.',\n",
       " 'You say that the municipality does not pick up the garbage.',\n",
       " 'You say that the phones don’t work, the railways are a joke, the airline is the worst in the world, and mails never reach their destination.',\n",
       " 'You say that our country has been fed to the dogs and is the absolute pits.',\n",
       " 'You say, say and say.',\n",
       " 'What do you do about it?',\n",
       " 'Dear Indians, I am echoing J.F.Kennedy’s words to his fellow Americans to relate to Indians …….',\n",
       " '“ASK WHAT WE CAN DO FOR INDIA AND DO WHAT HAS TO BE DONE TO MAKE INDIA WHAT AMERICA AND OTHER WESTERN COUNTRIES ARE TODAY.”']"
      ]
     },
     "execution_count": 12,
     "metadata": {},
     "output_type": "execute_result"
    }
   ],
   "source": [
    "sentences"
   ]
  },
  {
   "cell_type": "markdown",
   "metadata": {},
   "source": [
    "CC coordinating conjunction \n",
    "CD cardinal digit \n",
    "DT determiner \n",
    "EX existential there (like: “there is” … think of it like “there exists”) \n",
    "FW foreign word \n",
    "IN preposition/subordinating conjunction \n",
    "JJ adjective – ‘big’ \n",
    "JJR adjective, comparative – ‘bigger’ \n",
    "JJS adjective, superlative – ‘biggest’ \n",
    "LS list marker 1) \n",
    "MD modal – could, will \n",
    "NN noun, singular ‘- desk’ \n",
    "NNS noun plural – ‘desks’ \n",
    "NNP proper noun, singular – ‘Harrison’ \n",
    "NNPS proper noun, plural – ‘Americans’ \n",
    "PDT predeterminer – ‘all the kids’ \n",
    "POS possessive ending parent’s \n",
    "PRP personal pronoun –  I, he, she \n",
    "PRP$ possessive pronoun – my, his, hers \n",
    "RB adverb – very, silently, \n",
    "RBR adverb, comparative – better \n",
    "RBS adverb, superlative – best \n",
    "RP particle – give up \n",
    "TO – to go ‘to’ the store. \n",
    "UH interjection – errrrrrrrm \n",
    "VB verb, base form – take \n",
    "VBD verb, past tense – took \n",
    "VBG verb, gerund/present participle – taking \n",
    "VBN verb, past participle – taken \n",
    "VBP verb, sing. present, non-3d – take \n",
    "VBZ verb, 3rd person sing. present – takes \n",
    "WDT wh-determiner – which \n",
    "WP wh-pronoun – who, what \n",
    "WP$ possessive wh-pronoun, eg- whose \n",
    "WRB wh-adverb, eg- where, when"
   ]
  },
  {
   "cell_type": "code",
   "execution_count": null,
   "metadata": {},
   "outputs": [],
   "source": []
  },
  {
   "cell_type": "markdown",
   "metadata": {},
   "source": [
    "**Taj Mahal is a beautiful Monument**"
   ]
  },
  {
   "cell_type": "code",
   "execution_count": 21,
   "metadata": {},
   "outputs": [
    {
     "name": "stdout",
     "output_type": "stream",
     "text": [
      "[('Taj', 'NNP'), ('Mahal', 'NNP'), ('is', 'VBZ'), ('a', 'DT'), ('beautiful', 'JJ'), ('running', 'NN'), ('Monument', 'NN')]\n"
     ]
    }
   ],
   "source": [
    "mylist=\"Taj Mahal is a beautiful Monument\".split()\n",
    "print(nltk.pos_tag(mylist))"
   ]
  },
  {
   "cell_type": "code",
   "execution_count": null,
   "metadata": {},
   "outputs": [],
   "source": []
  }
 ],
 "metadata": {
  "kernelspec": {
   "display_name": ".venv",
   "language": "python",
   "name": "python3"
  },
  "language_info": {
   "codemirror_mode": {
    "name": "ipython",
    "version": 3
   },
   "file_extension": ".py",
   "mimetype": "text/x-python",
   "name": "python",
   "nbconvert_exporter": "python",
   "pygments_lexer": "ipython3",
   "version": "3.12.3"
  }
 },
 "nbformat": 4,
 "nbformat_minor": 2
}
