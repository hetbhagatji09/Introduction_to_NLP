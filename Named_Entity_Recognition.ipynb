{
 "cells": [
  {
   "cell_type": "markdown",
   "metadata": {},
   "source": [
    "<h3>Named Entity Recognition"
   ]
  },
  {
   "cell_type": "markdown",
   "metadata": {},
   "source": [
    "sentence=\"The Eiffel Tower, an iconic wrought-iron lattice structure in Paris, France, stands as a global symbol of French art, culture, and engineering prowess.\""
   ]
  },
  {
   "cell_type": "markdown",
   "metadata": {},
   "source": []
  },
  {
   "cell_type": "code",
   "execution_count": 1,
   "metadata": {},
   "outputs": [],
   "source": [
    "sentence=\"The Eiffel Tower, an iconic wrought-iron lattice structure in Paris, France, stands as a global symbol of French art, culture, and engineering prowess in 1997 with 1 million dollar by Het Bhagatji .\""
   ]
  },
  {
   "cell_type": "code",
   "execution_count": 2,
   "metadata": {},
   "outputs": [],
   "source": [
    "import nltk\n",
    "words=nltk.word_tokenize(sentence)"
   ]
  },
  {
   "cell_type": "code",
   "execution_count": 3,
   "metadata": {},
   "outputs": [
    {
     "data": {
      "text/plain": [
       "['The',\n",
       " 'Eiffel',\n",
       " 'Tower',\n",
       " ',',\n",
       " 'an',\n",
       " 'iconic',\n",
       " 'wrought-iron',\n",
       " 'lattice',\n",
       " 'structure',\n",
       " 'in',\n",
       " 'Paris',\n",
       " ',',\n",
       " 'France',\n",
       " ',',\n",
       " 'stands',\n",
       " 'as',\n",
       " 'a',\n",
       " 'global',\n",
       " 'symbol',\n",
       " 'of',\n",
       " 'French',\n",
       " 'art',\n",
       " ',',\n",
       " 'culture',\n",
       " ',',\n",
       " 'and',\n",
       " 'engineering',\n",
       " 'prowess',\n",
       " 'in',\n",
       " '1997',\n",
       " 'with',\n",
       " '1',\n",
       " 'million',\n",
       " 'dollar',\n",
       " 'by',\n",
       " 'Het',\n",
       " 'Bhagatji',\n",
       " '.']"
      ]
     },
     "execution_count": 3,
     "metadata": {},
     "output_type": "execute_result"
    }
   ],
   "source": [
    "words"
   ]
  },
  {
   "cell_type": "code",
   "execution_count": 6,
   "metadata": {},
   "outputs": [],
   "source": [
    "tags=nltk.pos_tag(words)"
   ]
  },
  {
   "cell_type": "code",
   "execution_count": 7,
   "metadata": {},
   "outputs": [],
   "source": [
    "nltk.ne_chunk(tags).draw()"
   ]
  },
  {
   "cell_type": "code",
   "execution_count": null,
   "metadata": {},
   "outputs": [],
   "source": [
    "print(\"hey\")"
   ]
  },
  {
   "cell_type": "code",
   "execution_count": null,
   "metadata": {},
   "outputs": [],
   "source": []
  }
 ],
 "metadata": {
  "kernelspec": {
   "display_name": "Python 3 (ipykernel)",
   "language": "python",
   "name": "python3"
  },
  "language_info": {
   "codemirror_mode": {
    "name": "ipython",
    "version": 3
   },
   "file_extension": ".py",
   "mimetype": "text/x-python",
   "name": "python",
   "nbconvert_exporter": "python",
   "pygments_lexer": "ipython3",
   "version": "3.12.3"
  }
 },
 "nbformat": 4,
 "nbformat_minor": 2
}
