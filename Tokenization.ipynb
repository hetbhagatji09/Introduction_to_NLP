{
 "cells": [
  {
   "cell_type": "code",
   "execution_count": 17,
   "id": "ebf567af",
   "metadata": {},
   "outputs": [],
   "source": [
    "corpus=\"\"\"Hello Welcome,to Krish's Naik NLP tutorial.\n",
    "Pleasae do watch tutorails!\n",
    "plz watch this course.\"\"\""
   ]
  },
  {
   "cell_type": "code",
   "execution_count": 18,
   "id": "7fff389c",
   "metadata": {},
   "outputs": [
    {
     "name": "stdout",
     "output_type": "stream",
     "text": [
      "Hello Welcome,to Krish's Naik NLP tutorial.\n",
      "Pleasae do watch tutorails!\n",
      "plz watch this course.\n"
     ]
    }
   ],
   "source": [
    "print(corpus)\n"
   ]
  },
  {
   "cell_type": "code",
   "execution_count": 23,
   "id": "02fda8c1",
   "metadata": {},
   "outputs": [],
   "source": [
    "##Tokenization\n",
    "#this converts paragraph into words\n",
    "from nltk.tokenize import sent_tokenize,word_tokenize"
   ]
  },
  {
   "cell_type": "code",
   "execution_count": 29,
   "id": "08e54974",
   "metadata": {},
   "outputs": [],
   "source": [
    "words=word_tokenize(corpus)"
   ]
  },
  {
   "cell_type": "code",
   "execution_count": 25,
   "id": "120320d9",
   "metadata": {},
   "outputs": [
    {
     "data": {
      "text/plain": [
       "[\"Hello Welcome,to Krish's Naik NLP tutorial.\",\n",
       " 'Pleasae do watch tutorails!',\n",
       " 'plz watch this course.']"
      ]
     },
     "execution_count": 25,
     "metadata": {},
     "output_type": "execute_result"
    }
   ],
   "source": [
    "sent_tokenize(corpus)"
   ]
  },
  {
   "cell_type": "code",
   "execution_count": 26,
   "id": "be5cb25c",
   "metadata": {},
   "outputs": [],
   "source": [
    "documents=sent_tokenize(corpus)"
   ]
  },
  {
   "cell_type": "code",
   "execution_count": 27,
   "id": "e30d21a2",
   "metadata": {},
   "outputs": [
    {
     "data": {
      "text/plain": [
       "list"
      ]
     },
     "execution_count": 27,
     "metadata": {},
     "output_type": "execute_result"
    }
   ],
   "source": [
    "type(documents)"
   ]
  },
  {
   "cell_type": "code",
   "execution_count": 28,
   "id": "0c14bd78",
   "metadata": {},
   "outputs": [
    {
     "name": "stdout",
     "output_type": "stream",
     "text": [
      "Hello Welcome,to Krish's Naik NLP tutorial.\n",
      "Pleasae do watch tutorails!\n",
      "plz watch this course.\n"
     ]
    }
   ],
   "source": [
    "for i in documents:\n",
    "    print(i)"
   ]
  },
  {
   "cell_type": "code",
   "execution_count": 30,
   "id": "98f0f578",
   "metadata": {},
   "outputs": [
    {
     "name": "stdout",
     "output_type": "stream",
     "text": [
      "Hello\n",
      "Welcome\n",
      ",\n",
      "to\n",
      "Krish\n",
      "'s\n",
      "Naik\n",
      "NLP\n",
      "tutorial\n",
      ".\n",
      "Pleasae\n",
      "do\n",
      "watch\n",
      "tutorails\n",
      "!\n",
      "plz\n",
      "watch\n",
      "this\n",
      "course\n",
      ".\n"
     ]
    }
   ],
   "source": [
    "for i in words:\n",
    "    print(i)"
   ]
  },
  {
   "cell_type": "code",
   "execution_count": 40,
   "id": "985b3671",
   "metadata": {},
   "outputs": [],
   "source": [
    "from nltk.tokenize import wordpunct_tokenize,TreebankWordTokenizer,TreebankWordDetokenizer"
   ]
  },
  {
   "cell_type": "code",
   "execution_count": 41,
   "id": "0bd25d84",
   "metadata": {},
   "outputs": [
    {
     "data": {
      "text/plain": [
       "['Hello',\n",
       " 'Welcome',\n",
       " ',',\n",
       " 'to',\n",
       " 'Krish',\n",
       " \"'\",\n",
       " 's',\n",
       " 'Naik',\n",
       " 'NLP',\n",
       " 'tutorial',\n",
       " '.',\n",
       " 'Pleasae',\n",
       " 'do',\n",
       " 'watch',\n",
       " 'tutorails',\n",
       " '!',\n",
       " 'plz',\n",
       " 'watch',\n",
       " 'this',\n",
       " 'course',\n",
       " '.']"
      ]
     },
     "execution_count": 41,
     "metadata": {},
     "output_type": "execute_result"
    }
   ],
   "source": [
    "wordpunct_tokenize(corpus)"
   ]
  },
  {
   "cell_type": "code",
   "execution_count": 46,
   "id": "a55a5330",
   "metadata": {},
   "outputs": [],
   "source": [
    "tree=TreebankWordTokenizer()\n",
    "treede=TreebankWordDetokenizer()"
   ]
  },
  {
   "cell_type": "code",
   "execution_count": 48,
   "id": "28208630",
   "metadata": {},
   "outputs": [
    {
     "data": {
      "text/plain": [
       "['Hello',\n",
       " 'Welcome',\n",
       " ',',\n",
       " 'to',\n",
       " 'Krish',\n",
       " \"'s\",\n",
       " 'Naik',\n",
       " 'NLP',\n",
       " 'tutorial.',\n",
       " 'Pleasae',\n",
       " 'do',\n",
       " 'watch',\n",
       " 'tutorails',\n",
       " '!',\n",
       " 'plz',\n",
       " 'watch',\n",
       " 'this',\n",
       " 'course',\n",
       " '.']"
      ]
     },
     "execution_count": 48,
     "metadata": {},
     "output_type": "execute_result"
    }
   ],
   "source": [
    "tree.tokenize(corpus)"
   ]
  },
  {
   "cell_type": "code",
   "execution_count": 49,
   "id": "f13e0b68",
   "metadata": {},
   "outputs": [
    {
     "data": {
      "text/plain": [
       "\"Hello Welcome, to Krish's Naik NLP tutorial. Pleasae do watch tutorails! plz watch this course.\""
      ]
     },
     "execution_count": 49,
     "metadata": {},
     "output_type": "execute_result"
    }
   ],
   "source": [
    "treede.tokenize(tree.tokenize(corpus))"
   ]
  },
  {
   "cell_type": "code",
   "execution_count": null,
   "id": "a22eea8d",
   "metadata": {},
   "outputs": [],
   "source": []
  }
 ],
 "metadata": {
  "kernelspec": {
   "display_name": "Python 3 (ipykernel)",
   "language": "python",
   "name": "python3"
  },
  "language_info": {
   "codemirror_mode": {
    "name": "ipython",
    "version": 3
   },
   "file_extension": ".py",
   "mimetype": "text/x-python",
   "name": "python",
   "nbconvert_exporter": "python",
   "pygments_lexer": "ipython3",
   "version": "3.11.5"
  }
 },
 "nbformat": 4,
 "nbformat_minor": 5
}
